{
 "cells": [
  {
   "cell_type": "markdown",
   "metadata": {},
   "source": [
    "# Visualize imagery over time \n",
    "In this notebook, we will show how to combine the [Data API](https://developers.planet.com/docs/api/) and [Tiles API](https://developers.planet.com/docs/api/tile-services/) to make a timelapse animation for a point of interest."
   ]
  },
  {
   "cell_type": "markdown",
   "metadata": {},
   "source": [
    "## Setup"
   ]
  },
  {
   "cell_type": "markdown",
   "metadata": {},
   "source": [
    "#### Install additional dependencies\n",
    "If you don't already have mercantile in your current jupyter environment, you can install it now.\n",
    "\n",
    "!NOTE: If you installed the dependencies with our _requirements.txt_ file, skip this line."
   ]
  },
  {
   "cell_type": "code",
   "execution_count": 1,
   "metadata": {},
   "outputs": [
    {
     "name": "stdout",
     "output_type": "stream",
     "text": [
      "Requirement already satisfied: mercantile in /Users/luisperaza/anaconda3/envs/support-tools/lib/python3.6/site-packages (1.1.2)\r\n",
      "Requirement already satisfied: click>=3.0 in /Users/luisperaza/anaconda3/envs/support-tools/lib/python3.6/site-packages (from mercantile) (7.0)\r\n"
     ]
    }
   ],
   "source": [
    "!pip install mercantile"
   ]
  },
  {
   "cell_type": "markdown",
   "metadata": {},
   "source": [
    "#### Set API Key\n",
    "Get your API key from [your Planet account info](https://www.planet.com/account/#/) and paste it below in place of `YOUR_KEY_HERE`"
   ]
  },
  {
   "cell_type": "code",
   "execution_count": 2,
   "metadata": {},
   "outputs": [],
   "source": [
    "import os\n",
    "# Setup the API Key from the `PL_API_KEY` environment variable\n",
    "PLANET_API_KEY = os.getenv('K')\n",
    "\n",
    "# If you're following along with this notebook, you can enter your API Key on the following line, and uncomment it:\n",
    "# PLANET_API_KEY = 'YOUR_KEY_HERE'\n",
    "assert PLANET_API_KEY, 'api key not set'\n",
    "\n",
    "# Import helper modules\n",
    "import json\n",
    "import mercantile\n",
    "import requests"
   ]
  },
  {
   "cell_type": "markdown",
   "metadata": {},
   "source": [
    "#### Check data api connection\n",
    "Make data api request to test that the api key is working"
   ]
  },
  {
   "cell_type": "code",
   "execution_count": 3,
   "metadata": {},
   "outputs": [],
   "source": [
    "# Setup Planet Data API base URL\n",
    "API_URL = \"https://api.planet.com/data/v1\"\n",
    "# Setup the session\n",
    "session = requests.Session()\n",
    "# Authenticate\n",
    "session.auth = (PLANET_API_KEY, \"\")\n",
    "# Make a GET request to the Planet Data API\n",
    "resp = session.get(API_URL)\n",
    "if not resp.ok:\n",
    "    print(\"Something is wrong:\", resp.content)"
   ]
  },
  {
   "cell_type": "markdown",
   "metadata": {},
   "source": [
    "## Data API Search\n",
    "In this next part, we will search for items that match a given date range, item_type, and location"
   ]
  },
  {
   "cell_type": "markdown",
   "metadata": {},
   "source": [
    "#### Data API quick-search wrapper\n",
    "Make a search function that can take a geojson geometry and give us item_ids"
   ]
  },
  {
   "cell_type": "code",
   "execution_count": 4,
   "metadata": {},
   "outputs": [],
   "source": [
    "from datetime import datetime\n",
    "\n",
    "def get_item_ids(geometry, item_type='PSScene3Band', start_date=None, end_date=None, limit=100):\n",
    "    \"\"\"Get Planet Data API item_id values for matching filters.\n",
    "    Args:\n",
    "        geometry: geojson geometry dict\n",
    "        item_type: item_type (see https://developers.planet.com/docs/api/items-assets/#item-types)\n",
    "        start_date: inclusive lower bound ISO 8601 datetime string (include items captured on or after this date)\n",
    "        end_date: exclusive lower bound ISO 8601 datetime string (include items captured before this date)\n",
    "        limit: max number of ids to return\n",
    "    Returns:\n",
    "        item_ids: list of id strings\n",
    "    \"\"\"\n",
    "    # Data API Geometry Filter\n",
    "    geometry_filter = {\n",
    "        \"type\": \"GeometryFilter\",\n",
    "        \"field_name\": \"geometry\",\n",
    "        \"config\": geometry\n",
    "    }\n",
    "    # use a default end_date of the current time\n",
    "    if not end_date:\n",
    "        end_date = datetime.utcnow().isoformat() + 'Z'\n",
    "    date_filter = {\n",
    "        \"type\": \"DateRangeFilter\", # Type of filter -> Date Range\n",
    "        \"field_name\": \"acquired\", # The field to filter on: \"acquired\" -> Date on which the \"image was taken\"\n",
    "        \"config\": {\n",
    "            \"lt\": end_date, # \"lt\" -> Less than\n",
    "        }\n",
    "    }\n",
    "    # start_date is optional\n",
    "    if start_date:\n",
    "        # greater than or equal to start date\n",
    "        date_filter[\"config\"][\"gte\"] = start_date\n",
    "\n",
    "    # combine geometry and date filters with an AndFilter\n",
    "    and_filter = {\n",
    "        \"type\": \"AndFilter\",\n",
    "        \"config\": [geometry_filter, date_filter]\n",
    "    }\n",
    "\n",
    "    quick_url = \"{}/quick-search\".format(API_URL)\n",
    "    # Setup the request\n",
    "    filter_request = {\n",
    "        \"item_types\" : [item_type],\n",
    "        \"interval\" : \"year\",\n",
    "        \"filter\" : and_filter\n",
    "    }\n",
    "    # get ids from search results\n",
    "    resp = session.post(quick_url, json=filter_request)\n",
    "    results = resp.json()\n",
    "    ids = [f['id'] for f in results['features']]\n",
    "    # follow pagination links until we hit the limit\n",
    "    while len(ids) < limit and results['_links'].get('next'):\n",
    "        results = requests.get(results['_links'].get('next')).json()\n",
    "        more_ids = [f['id'] for f in results['features']]\n",
    "        ids += more_ids\n",
    "    return ids[:limit]"
   ]
  },
  {
   "cell_type": "markdown",
   "metadata": {},
   "source": [
    "#### Geometry helper\n",
    "Convert coordinates to geojson geometry format"
   ]
  },
  {
   "cell_type": "code",
   "execution_count": 5,
   "metadata": {},
   "outputs": [],
   "source": [
    "def coords_to_geometry(lat, lon):\n",
    "    \"\"\"Given latitude and longitude floats, construct a geojson geometry dict\"\"\"\n",
    "    return {\n",
    "        \"type\": \"Point\",\n",
    "        \"coordinates\": [lon, lat]\n",
    "    }"
   ]
  },
  {
   "cell_type": "markdown",
   "metadata": {},
   "source": [
    "Make a geometry dict for coordinates in San Francisco"
   ]
  },
  {
   "cell_type": "code",
   "execution_count": 6,
   "metadata": {},
   "outputs": [
    {
     "name": "stdout",
     "output_type": "stream",
     "text": [
      "{'type': 'Point', 'coordinates': [-122.41942, 37.77493]}\n"
     ]
    }
   ],
   "source": [
    "geom = coords_to_geometry(37.77493, -122.41942)\n",
    "print(geom)"
   ]
  },
  {
   "cell_type": "markdown",
   "metadata": {},
   "source": [
    "#### Try getting item ids"
   ]
  },
  {
   "cell_type": "code",
   "execution_count": 7,
   "metadata": {},
   "outputs": [
    {
     "data": {
      "text/plain": [
       "['20190317_184156_63_105d',\n",
       " '20190930_184841_50_1060',\n",
       " '20190926_182638_0e20',\n",
       " '20190927_171529_0f36',\n",
       " '20190927_171528_0f36']"
      ]
     },
     "execution_count": 7,
     "metadata": {},
     "output_type": "execute_result"
    }
   ],
   "source": [
    "get_item_ids(geom, start_date=\"2019-01-01T00:00:00.000Z\", end_date=\"2019-10-01T00:00:00.000Z\", limit=5)"
   ]
  },
  {
   "cell_type": "markdown",
   "metadata": {},
   "source": [
    "## Getting Webtiles\n",
    "Although we could download images for the item_ids above, we can get a nice visual preview through [webtiles](https://developers.planet.com/docs/api/tile-services/). These are 256x256 PNG images on a spatial grid, often used for [web maps](https://en.wikipedia.org/wiki/Tiled_web_map).\n"
   ]
  },
  {
   "cell_type": "markdown",
   "metadata": {},
   "source": [
    "#### Generating tile urls\n",
    "We want to get urls for many tiles over time for a given latitude, longitude, and zoom level.\n",
    "\n",
    "Let's re-use some of the filters we exposed in the Data API search wrapper."
   ]
  },
  {
   "cell_type": "code",
   "execution_count": 8,
   "metadata": {},
   "outputs": [],
   "source": [
    "def get_tile_urls(lat, lon, zoom=15, item_type='PSScene3Band', start_date='2019-01-01T00:00:00.000Z', end_date='2019-10-01T00:00:00.000Z', limit=5):\n",
    "    \"\"\"Get webtile urls for given coordinates, zoom, and matching filters.\n",
    "    Args:\n",
    "        lat: latitude float\n",
    "        lon: longitude float\n",
    "        zoom: zoom level int (usually between 1 and 15)\n",
    "        item_type: item_type (see https://developers.planet.com/docs/api/items-assets/#item-types)\n",
    "        start_date: inclusive lower bound ISO 8601 datetime string (include items captured on or after this date)\n",
    "        end_date: exclusive lower bound ISO 8601 datetime string (include items captured before this date)\n",
    "        limit: max number of ids to return\n",
    "    Returns:\n",
    "        item_ids: list of id strings\n",
    "    \"\"\"\n",
    "    geom = coords_to_geometry(lat, lon)\n",
    "    item_ids = get_item_ids(geom, item_type=item_type, start_date=start_date, end_date=end_date, limit=limit)\n",
    "    tile = mercantile.tile(lon, lat, zoom)\n",
    "    tile_url_template = 'https://tiles.planet.com/data/v1/{item_type}/{item_id}/{z}/{x}/{y}.png?api_key={api_key}'\n",
    "    return [tile_url_template.format(item_type=item_type, item_id=i, x=tile.x, y=tile.y, z=zoom, api_key=PLANET_API_KEY) for i in item_ids]"
   ]
  },
  {
   "cell_type": "markdown",
   "metadata": {},
   "source": [
    "#### Testing tile urls\n",
    "Click the links below to see tile images in your browser"
   ]
  },
  {
   "cell_type": "code",
   "execution_count": 9,
   "metadata": {},
   "outputs": [
    {
     "name": "stdout",
     "output_type": "stream",
     "text": [
      "https://tiles.planet.com/data/v1/PSScene3Band/20190317_184156_63_105d/15/5241/12665.png?api_key=0d687fe61f24476d8eac72d9f2034a7f\n",
      "\n",
      "https://tiles.planet.com/data/v1/PSScene3Band/20190930_184841_50_1060/15/5241/12665.png?api_key=0d687fe61f24476d8eac72d9f2034a7f\n",
      "\n",
      "https://tiles.planet.com/data/v1/PSScene3Band/20190926_182638_0e20/15/5241/12665.png?api_key=0d687fe61f24476d8eac72d9f2034a7f\n",
      "\n",
      "https://tiles.planet.com/data/v1/PSScene3Band/20190927_171529_0f36/15/5241/12665.png?api_key=0d687fe61f24476d8eac72d9f2034a7f\n",
      "\n",
      "https://tiles.planet.com/data/v1/PSScene3Band/20190927_171528_0f36/15/5241/12665.png?api_key=0d687fe61f24476d8eac72d9f2034a7f\n",
      "\n"
     ]
    }
   ],
   "source": [
    "tile_urls = get_tile_urls(37.77493, -122.41942, limit=5)\n",
    "for url in tile_urls:\n",
    "    print(url)\n",
    "    print()"
   ]
  },
  {
   "cell_type": "markdown",
   "metadata": {},
   "source": [
    "#### Display a tile"
   ]
  },
  {
   "cell_type": "code",
   "execution_count": 10,
   "metadata": {},
   "outputs": [
    {
     "data": {
      "image/png": "[encoded data removed]",
      "text/plain": [
       "<IPython.core.display.Image object>"
      ]
     },
     "execution_count": 10,
     "metadata": {},
     "output_type": "execute_result"
    }
   ],
   "source": [
    "from IPython.display import Image\n",
    "resp = requests.get(tile_urls[0])\n",
    "Image(resp.content)"
   ]
  },
  {
   "cell_type": "markdown",
   "metadata": {},
   "source": [
    "#### Animate tiles over time"
   ]
  },
  {
   "cell_type": "code",
   "execution_count": 11,
   "metadata": {},
   "outputs": [],
   "source": [
    "%matplotlib inline\n",
    "from IPython.display import HTML\n",
    "import random\n",
    "import time\n",
    "def animate(urls, delay=1.0, loops=1):\n",
    "    \"\"\"Display an animated loop of images\n",
    "    Args:\n",
    "        urls: list of image url strings\n",
    "        delay: how long in seconds to display each image\n",
    "        loops: how many times to repeat the image sequence\n",
    "    \"\"\"\n",
    "    disp_id = str(random.random())\n",
    "    display(\"placeholder\", display_id=disp_id)\n",
    "    for loop in range(loops):\n",
    "        for frame_url in urls:\n",
    "            htmlDisplay = f'<img src=\"{frame_url}\" class=\"mySlides\">'\n",
    "            display(HTML(htmlDisplay), display_id=disp_id, update=True)\n",
    "            time.sleep(delay)"
   ]
  },
  {
   "cell_type": "code",
   "execution_count": null,
   "metadata": {},
   "outputs": [],
   "source": [
    "animate(tile_urls, delay=0.5, loops=6)"
   ]
  },
  {
   "cell_type": "code",
   "execution_count": 13,
   "metadata": {},
   "outputs": [],
   "source": [
    "tile_urls = get_tile_urls(37.77493, -122.41942, limit=100)"
   ]
  },
  {
   "cell_type": "code",
   "execution_count": null,
   "metadata": {},
   "outputs": [
    {
     "data": {
      "text/html": [
       "<img src=\"https://tiles.planet.com/data/v1/PSScene3Band/20190921_183521_1010/15/5241/12665.png?api_key=0d687fe61f24476d8eac72d9f2034a7f\" class=\"mySlides\">"
      ],
      "text/plain": [
       "<IPython.core.display.HTML object>"
      ]
     },
     "metadata": {},
     "output_type": "display_data"
    }
   ],
   "source": [
    "animate(tile_urls, delay=1, loops=3)"
   ]
  },
  {
   "cell_type": "code",
   "execution_count": null,
   "metadata": {},
   "outputs": [],
   "source": []
  }
 ],
 "metadata": {
  "kernelspec": {
   "display_name": "Python 3",
   "language": "python",
   "name": "python3"
  },
  "language_info": {
   "codemirror_mode": {
    "name": "ipython",
    "version": 3
   },
   "file_extension": ".py",
   "mimetype": "text/x-python",
   "name": "python",
   "nbconvert_exporter": "python",
   "pygments_lexer": "ipython3",
   "version": "3.6.9"
  }
 },
 "nbformat": 4,
 "nbformat_minor": 2
}
