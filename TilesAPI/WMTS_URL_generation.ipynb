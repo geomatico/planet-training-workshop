{
 "cells": [
  {
   "cell_type": "code",
   "execution_count": 262,
   "metadata": {},
   "outputs": [],
   "source": [
    "import os\n",
    "import requests"
   ]
  },
  {
   "cell_type": "code",
   "execution_count": 263,
   "metadata": {},
   "outputs": [],
   "source": [
    "tile_url = 'https://tiles0.planet.com/data/v1/layers'\n",
    "#Copy the list of scene IDs from the API dialog into the ids JSON\n",
    "data = {\n",
    "  \"ids\": [\n",
    "    \"PSScene4Band:20180326_190231_0d05, PSScene4Band:20180326_190231_1_0d05, PSScene4Band:20180326_190230_0d05, PSScene4Band:20180326_154223_1053, PSScene4Band:20180326_154222_1053\"\n",
    "  ]\n",
    "}\n",
    "api_key = os.getenv('PL_API_KEY')"
   ]
  },
  {
   "cell_type": "code",
   "execution_count": 264,
   "metadata": {},
   "outputs": [
    {
     "name": "stdout",
     "output_type": "stream",
     "text": [
      "<Response [201]>\n",
      "https://tiles0.planet.com/data/v1/layers/wmts/xVyy6kimV9n6g72PV-tttT5NimulXvY1awR5BQ?api_key=57c5310735b64b4888c608142c5e07e3\n"
     ]
    }
   ],
   "source": [
    "res = requests.post(tile_url, auth=(api_key, \"\"), data=data)\n",
    "print(res)\n",
    "name = res.json()[\"name\"]\n",
    "url = \"{}/wmts/{}?api_key={}\".format(tile_url,name, api_key)\n",
    "print(url)\n"
   ]
  },
  {
   "cell_type": "code",
   "execution_count": null,
   "metadata": {},
   "outputs": [],
   "source": []
  }
 ],
 "metadata": {
  "kernelspec": {
   "display_name": "Python 2",
   "language": "python",
   "name": "python2"
  },
  "language_info": {
   "codemirror_mode": {
    "name": "ipython",
    "version": 2
   },
   "file_extension": ".py",
   "mimetype": "text/x-python",
   "name": "python",
   "nbconvert_exporter": "python",
   "pygments_lexer": "ipython2",
   "version": "2.7.16"
  }
 },
 "nbformat": 4,
 "nbformat_minor": 2
}
