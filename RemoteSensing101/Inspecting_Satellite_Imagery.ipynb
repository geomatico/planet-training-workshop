{
 "cells": [
  {
   "cell_type": "markdown",
   "metadata": {},
   "source": [
    "# Inspecting Satellite Imagery using Rasterio\n",
    "## A first look at satellite data with Python\n",
    "\n",
    "At this point, we learned to search for, filter and download satellite imagery using the Planet Explorer. Now let's use one of these acquired datasets and dig into it a bit with Python.\n",
    "\n",
    "Here we're going to use a Python library called [Rasterio](https://rasterio.readthedocs.io/en/stable/): you may be familiar with it already, or perhaps with the related C library, [GDAL](https://gdal.org/). If you've used [Numpy](http://www.numpy.org/) before, working with [Rasterio](https://rasterio.readthedocs.io/en/stable/) will feel very familiar."
   ]
  },
  {
   "cell_type": "code",
   "execution_count": null,
   "metadata": {},
   "outputs": [],
   "source": [
    "from __future__ import division\n",
    "\n",
    "import math\n",
    "\n",
    "import rasterio\n",
    "\n",
    "\n",
    "# This notebook explores a single 4 band (blue, green, red, NIR) PlanetScope scene in a UTM projection.\n",
    "image_file = \"ex.tif\"\n",
    "\n",
    "satdat = rasterio.open(image_file)"
   ]
  },
  {
   "cell_type": "markdown",
   "metadata": {},
   "source": [
    "## Basic details\n",
    "What can we learn about this satellite image using just Python?"
   ]
  },
  {
   "cell_type": "code",
   "execution_count": null,
   "metadata": {},
   "outputs": [],
   "source": [
    "# Minimum bounding box in projected units\n",
    "\n",
    "print(satdat.bounds)"
   ]
  },
  {
   "cell_type": "code",
   "execution_count": null,
   "metadata": {},
   "outputs": [],
   "source": [
    "# Get dimensions, in map units (using the example GeoTIFF, that's meters)\n",
    "\n",
    "width_in_projected_units = satdat.bounds.right - satdat.bounds.left\n",
    "height_in_projected_units = satdat.bounds.top - satdat.bounds.bottom\n",
    "\n",
    "print(\"Width: {}, Height: {}\".format(width_in_projected_units, height_in_projected_units))"
   ]
  },
  {
   "cell_type": "code",
   "execution_count": null,
   "metadata": {},
   "outputs": [],
   "source": [
    "# Number of rows and columns.\n",
    "\n",
    "print(\"Rows: {}, Columns: {}\".format(satdat.height, satdat.width))"
   ]
  },
  {
   "cell_type": "code",
   "execution_count": null,
   "metadata": {},
   "outputs": [],
   "source": [
    "# This dataset's projection uses meters as distance units.  What are the dimensions of a single pixel in meters?\n",
    "\n",
    "xres = (satdat.bounds.right - satdat.bounds.left) / satdat.width\n",
    "yres = (satdat.bounds.top - satdat.bounds.bottom) / satdat.height\n",
    "\n",
    "print(xres, yres)\n",
    "print(\"Are the pixels square: {}\".format(xres == yres))"
   ]
  },
  {
   "cell_type": "code",
   "execution_count": null,
   "metadata": {},
   "outputs": [],
   "source": [
    "# Get coordinate reference system\n",
    "\n",
    "satdat.crs"
   ]
  },
  {
   "cell_type": "code",
   "execution_count": null,
   "metadata": {},
   "outputs": [],
   "source": [
    "# Convert pixel coordinates to world coordinates.\n",
    "\n",
    "# Upper left pixel\n",
    "row_min = 0\n",
    "col_min = 0\n",
    "\n",
    "# Lower right pixel.  Rows and columns are zero indexing.\n",
    "row_max = satdat.height - 1\n",
    "col_max = satdat.width - 1\n",
    "\n",
    "# Transform coordinates with the dataset's affine transformation.\n",
    "topleft = satdat.transform * (row_min, col_min)\n",
    "botright = satdat.transform * (row_max, col_max)\n",
    "\n",
    "print(\"Top left corner coordinates: {}\".format(topleft))\n",
    "print(\"Bottom right corner coordinates: {}\".format(botright))"
   ]
  },
  {
   "cell_type": "code",
   "execution_count": null,
   "metadata": {},
   "outputs": [],
   "source": [
    "# All of the metadata required to create an image of the same dimensions, datatype, format, etc. is stored in\n",
    "# one location.\n",
    "\n",
    "print(satdat.meta)"
   ]
  },
  {
   "cell_type": "markdown",
   "metadata": {},
   "source": [
    "## Bands\n",
    "So far, we haven't done too much geospatial-raster-specific work yet. Since we know we're inspecting a multispectral satellite image, let's see what we can learn about its bands."
   ]
  },
  {
   "cell_type": "code",
   "execution_count": null,
   "metadata": {},
   "outputs": [],
   "source": [
    "# The dataset reports a band count.\n",
    "print(satdat.count)\n",
    "\n",
    "# And provides a sequence of band indexes.  These are one indexing, not zero indexing like Numpy arrays.\n",
    "print(satdat.indexes)"
   ]
  },
  {
   "cell_type": "markdown",
   "metadata": {},
   "source": [
    "Because we know we're look at a PlanetScope 4-band analytic satellite image, we can define the bands by their order:"
   ]
  },
  {
   "cell_type": "code",
   "execution_count": null,
   "metadata": {},
   "outputs": [],
   "source": [
    "# PlanetScope 4-band band order: BGRN\n",
    "\n",
    "blue, green, red, nir = satdat.read()\n",
    "\n",
    "# Or the slightly less efficient:\n",
    "#    blue = satdat.read(1)\n",
    "#    green = satdat.read(2)\n",
    "#    red = satdat.read(3)\n",
    "#    nir = satdat.read(4)\n",
    "\n",
    "# Or read the entire dataset into a single 3D array:\n",
    "#    data = satdat.read()"
   ]
  },
  {
   "cell_type": "markdown",
   "metadata": {},
   "source": [
    "## Pixels\n",
    "\n",
    "In a raster dataset, each pixel has a value. Pixels are arranged in a grid, and pixels representing equivalent data have the same value:\n",
    "\n",
    "![pixels2.png](pixels2.png)"
   ]
  },
  {
   "cell_type": "code",
   "execution_count": null,
   "metadata": {},
   "outputs": [],
   "source": [
    "# Bands are stored as Numpy arrays.\n",
    "\n",
    "print(type(blue))"
   ]
  },
  {
   "cell_type": "code",
   "execution_count": null,
   "metadata": {},
   "outputs": [],
   "source": [
    "# How many dimensions would a single raster band have?  Two dimensions: rows and columns.\n",
    "\n",
    "print(blue.ndim)"
   ]
  },
  {
   "cell_type": "code",
   "execution_count": null,
   "metadata": {},
   "outputs": [],
   "source": [
    "# Glimpse at the band's values and datatype.\n",
    "\n",
    "print(blue)\n",
    "print(blue.dtype)"
   ]
  },
  {
   "cell_type": "code",
   "execution_count": null,
   "metadata": {},
   "outputs": [],
   "source": [
    "# Output a min & max pixel value in each band.\n",
    "\n",
    "for bidx in satdat.indexes:\n",
    "    data = satdat.read(bidx)\n",
    "    print(\"Band {bidx} min {min} max {max}\".format(bidx=bidx, min=data.min(), max=data.max()))\n",
    "\n",
    "\n",
    "# And an overall min/max for the entire dataset.\n",
    "    \n",
    "data = satdat.read()\n",
    "print(\"Overall min/max: {} {}\".format(data.min(), data.max()))"
   ]
  },
  {
   "cell_type": "code",
   "execution_count": null,
   "metadata": {},
   "outputs": [],
   "source": [
    "# Let's grab the pixel 2km east and 2km south of the upper left corner\n",
    "\n",
    "# World coordinates for the desired pixel.\n",
    "x_coord = satdat.bounds.left - 2000\n",
    "y_coord = satdat.bounds.top + 2000\n",
    "\n",
    "# Convert world coordinates to pixel.  World coordinates may not transform precisely to row and column indexes,\n",
    "# but a Numpy array can only be indexed by integer values.  The 'op' parameter for 'satdat.index()' determines\n",
    "# how the transformed values are rounded.  In some cases any point falling within a pixel should be considered\n",
    "# contained, and in other cases only points falling within one portion of the pixels hould be considered contained.\n",
    "# The 'op' parameter lets users make this decision on their own.  The values must still be cast to integers.\n",
    "col, row = satdat.index(x_coord, y_coord, op=math.floor)\n",
    "col = int(col)\n",
    "row = int(row)\n",
    "\n",
    "\n",
    "# Now let's look at the value of each band at this pixel\n",
    "print(\"Red: {}\".format(red[row, col]))\n",
    "print(\"Green: {}\".format(green[row, col]))\n",
    "print(\"Blue: {}\".format(blue[row, col]))\n",
    "print(\"NIR: {}\".format(nir[row, col]))"
   ]
  },
  {
   "cell_type": "code",
   "execution_count": null,
   "metadata": {},
   "outputs": [],
   "source": []
  }
 ],
 "metadata": {
  "kernelspec": {
   "display_name": "Python 3",
   "language": "python",
   "name": "python3"
  },
  "language_info": {
   "codemirror_mode": {
    "name": "ipython",
    "version": 3
   },
   "file_extension": ".py",
   "mimetype": "text/x-python",
   "name": "python",
   "nbconvert_exporter": "python",
   "pygments_lexer": "ipython3",
   "version": "3.8.1"
  }
 },
 "nbformat": 4,
 "nbformat_minor": 2
}
