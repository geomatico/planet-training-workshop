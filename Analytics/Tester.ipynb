{
 "cells": [
  {
   "cell_type": "code",
   "execution_count": 13,
   "metadata": {},
   "outputs": [
    {
     "name": "stdout",
     "output_type": "stream",
     "text": [
      "Subscription name: chabhar port, ID: 06d7493a-8589-46bb-b30c-441cc08b6588\n",
      "Subscription name: jask port, ID: fb1e9e7d-0b4e-443e-8048-c7e698d9b71f\n",
      "Subscription name: bander abbas port 2, ID: a822b083-39e6-497f-a1eb-7e67ebc78ada\n",
      "Subscription name: bander abbas port 1 , ID: db4878aa-5233-47db-8e87-8b40d22cd07f\n",
      "Subscription name: bsateen port, ID: 918921c9-1bbb-4ed3-95ea-2811cbdb96c6\n",
      "Subscription name: asaluweya port, ID: 132e09ff-d0a8-4ea8-b52a-c58217b7d03f\n",
      "Subscription name: bushaher port, ID: fffd66af-616e-4eee-bacb-f051f20de6c8\n",
      "Subscription name: masheher port, ID: eb9cbaf9-b33a-4d26-bfbb-22aafe538366\n",
      "Subscription name: alruwais port, ID: 5afc4796-4cd3-462c-8cf6-1c0b26377e0d\n",
      "Subscription name: abu aboud port, ID: 08cff3a6-9371-4fef-90ba-0f23be4a4f24\n",
      "Subscription name: BDF-PersianGulf, ID: 89301f80-1948-4a1b-907c-edd794cc5600\n"
     ]
    }
   ],
   "source": [
    "import os\n",
    "import requests\n",
    "\n",
    "BASE_URL = \"https://api.planet.com/analytics/\"\n",
    "\n",
    "# Build URL for the Subscriptions endpoint\n",
    "subscriptions_list_url = BASE_URL + \"subscriptions\"\n",
    "\n",
    "# Make GET call\n",
    "response = requests.get(subscriptions_list_url, auth=(\"fd7085b00b984cdeaa26917b37f40d6d\", \"\"))\n",
    "\n",
    "# Parse JSON response into a variable\n",
    "subscriptions = response.json()[\"data\"]\n",
    "\n",
    "for s in subscriptions:\n",
    "    print(\"Subscription name: {}, ID: {}\".format(s[\"title\"], s[\"id\"]))\n"
   ]
  },
  {
   "cell_type": "code",
   "execution_count": null,
   "metadata": {},
   "outputs": [],
   "source": []
  }
 ],
 "metadata": {
  "kernelspec": {
   "display_name": "Python 2",
   "language": "python",
   "name": "python2"
  },
  "language_info": {
   "codemirror_mode": {
    "name": "ipython",
    "version": 2
   },
   "file_extension": ".py",
   "mimetype": "text/x-python",
   "name": "python",
   "nbconvert_exporter": "python",
   "pygments_lexer": "ipython2",
   "version": "2.7.16"
  }
 },
 "nbformat": 4,
 "nbformat_minor": 2
}
